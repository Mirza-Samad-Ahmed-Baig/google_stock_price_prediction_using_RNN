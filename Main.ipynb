{
 "cells": [
  {
   "cell_type": "code",
   "execution_count": 1,
   "metadata": {},
   "outputs": [],
   "source": [
    "import numpy as np\n",
    "import pandas as pd\n",
    "import matplotlib.pyplot as plt\n",
    "import seaborn as sns\n",
    "%matplotlib inline"
   ]
  },
  {
   "cell_type": "code",
   "execution_count": 2,
   "metadata": {},
   "outputs": [],
   "source": [
    "df_train = pd.read_csv('Google_Stock_Price_Train.csv', parse_dates=True, index_col='Date')"
   ]
  },
  {
   "cell_type": "code",
   "execution_count": 3,
   "metadata": {},
   "outputs": [],
   "source": [
    "df_test = pd.read_csv('Google_Stock_Price_Test.csv', parse_dates=True, index_col='Date')"
   ]
  },
  {
   "cell_type": "code",
   "execution_count": 4,
   "metadata": {},
   "outputs": [
    {
     "name": "stdout",
     "output_type": "stream",
     "text": [
      "<class 'pandas.core.frame.DataFrame'>\n",
      "DatetimeIndex: 1258 entries, 2012-01-03 to 2016-12-30\n",
      "Data columns (total 5 columns):\n",
      " #   Column  Non-Null Count  Dtype  \n",
      "---  ------  --------------  -----  \n",
      " 0   Open    1258 non-null   float64\n",
      " 1   High    1258 non-null   float64\n",
      " 2   Low     1258 non-null   float64\n",
      " 3   Close   1258 non-null   object \n",
      " 4   Volume  1258 non-null   object \n",
      "dtypes: float64(3), object(2)\n",
      "memory usage: 59.0+ KB\n"
     ]
    }
   ],
   "source": [
    "df_train.info()"
   ]
  },
  {
   "cell_type": "code",
   "execution_count": 5,
   "metadata": {},
   "outputs": [
    {
     "data": {
      "text/html": [
       "<div>\n",
       "<style scoped>\n",
       "    .dataframe tbody tr th:only-of-type {\n",
       "        vertical-align: middle;\n",
       "    }\n",
       "\n",
       "    .dataframe tbody tr th {\n",
       "        vertical-align: top;\n",
       "    }\n",
       "\n",
       "    .dataframe thead th {\n",
       "        text-align: right;\n",
       "    }\n",
       "</style>\n",
       "<table border=\"1\" class=\"dataframe\">\n",
       "  <thead>\n",
       "    <tr style=\"text-align: right;\">\n",
       "      <th></th>\n",
       "      <th>Open</th>\n",
       "      <th>High</th>\n",
       "      <th>Low</th>\n",
       "      <th>Close</th>\n",
       "      <th>Volume</th>\n",
       "    </tr>\n",
       "    <tr>\n",
       "      <th>Date</th>\n",
       "      <th></th>\n",
       "      <th></th>\n",
       "      <th></th>\n",
       "      <th></th>\n",
       "      <th></th>\n",
       "    </tr>\n",
       "  </thead>\n",
       "  <tbody>\n",
       "    <tr>\n",
       "      <th>2012-01-03</th>\n",
       "      <td>325.25</td>\n",
       "      <td>332.83</td>\n",
       "      <td>324.97</td>\n",
       "      <td>663.59</td>\n",
       "      <td>7,380,500</td>\n",
       "    </tr>\n",
       "    <tr>\n",
       "      <th>2012-01-04</th>\n",
       "      <td>331.27</td>\n",
       "      <td>333.87</td>\n",
       "      <td>329.08</td>\n",
       "      <td>666.45</td>\n",
       "      <td>5,749,400</td>\n",
       "    </tr>\n",
       "    <tr>\n",
       "      <th>2012-01-05</th>\n",
       "      <td>329.83</td>\n",
       "      <td>330.75</td>\n",
       "      <td>326.89</td>\n",
       "      <td>657.21</td>\n",
       "      <td>6,590,300</td>\n",
       "    </tr>\n",
       "    <tr>\n",
       "      <th>2012-01-06</th>\n",
       "      <td>328.34</td>\n",
       "      <td>328.77</td>\n",
       "      <td>323.68</td>\n",
       "      <td>648.24</td>\n",
       "      <td>5,405,900</td>\n",
       "    </tr>\n",
       "    <tr>\n",
       "      <th>2012-01-09</th>\n",
       "      <td>322.04</td>\n",
       "      <td>322.29</td>\n",
       "      <td>309.46</td>\n",
       "      <td>620.76</td>\n",
       "      <td>11,688,800</td>\n",
       "    </tr>\n",
       "  </tbody>\n",
       "</table>\n",
       "</div>"
      ],
      "text/plain": [
       "              Open    High     Low   Close      Volume\n",
       "Date                                                  \n",
       "2012-01-03  325.25  332.83  324.97  663.59   7,380,500\n",
       "2012-01-04  331.27  333.87  329.08  666.45   5,749,400\n",
       "2012-01-05  329.83  330.75  326.89  657.21   6,590,300\n",
       "2012-01-06  328.34  328.77  323.68  648.24   5,405,900\n",
       "2012-01-09  322.04  322.29  309.46  620.76  11,688,800"
      ]
     },
     "execution_count": 5,
     "metadata": {},
     "output_type": "execute_result"
    }
   ],
   "source": [
    "df_train.head()"
   ]
  },
  {
   "cell_type": "code",
   "execution_count": 6,
   "metadata": {},
   "outputs": [],
   "source": [
    "df_train['Close'] = df_train['Close'].apply(lambda x: float(''.join(x.split(','))))"
   ]
  },
  {
   "cell_type": "code",
   "execution_count": 7,
   "metadata": {},
   "outputs": [],
   "source": [
    "df_train['Volume'] = df_train['Volume'].apply(lambda x: float(''.join(x.split(','))))"
   ]
  },
  {
   "cell_type": "code",
   "execution_count": 8,
   "metadata": {},
   "outputs": [
    {
     "name": "stdout",
     "output_type": "stream",
     "text": [
      "<class 'pandas.core.frame.DataFrame'>\n",
      "DatetimeIndex: 1258 entries, 2012-01-03 to 2016-12-30\n",
      "Data columns (total 5 columns):\n",
      " #   Column  Non-Null Count  Dtype  \n",
      "---  ------  --------------  -----  \n",
      " 0   Open    1258 non-null   float64\n",
      " 1   High    1258 non-null   float64\n",
      " 2   Low     1258 non-null   float64\n",
      " 3   Close   1258 non-null   float64\n",
      " 4   Volume  1258 non-null   float64\n",
      "dtypes: float64(5)\n",
      "memory usage: 59.0 KB\n"
     ]
    }
   ],
   "source": [
    "df_train.info()"
   ]
  },
  {
   "cell_type": "code",
   "execution_count": 9,
   "metadata": {},
   "outputs": [
    {
     "data": {
      "text/plain": [
       "<matplotlib.axes._subplots.AxesSubplot at 0x1c7587448b0>"
      ]
     },
     "execution_count": 9,
     "metadata": {},
     "output_type": "execute_result"
    },
    {
     "data": {
      "image/png": "[encoded data removed]",
      "text/plain": [
       "<Figure size 432x288 with 1 Axes>"
      ]
     },
     "metadata": {
      "needs_background": "light"
     },
     "output_type": "display_data"
    }
   ],
   "source": [
    "df_train['Volume'].plot()"
   ]
  },
  {
   "cell_type": "code",
   "execution_count": 10,
   "metadata": {},
   "outputs": [
    {
     "data": {
      "text/plain": [
       "<matplotlib.axes._subplots.AxesSubplot at 0x1c758816520>"
      ]
     },
     "execution_count": 10,
     "metadata": {},
     "output_type": "execute_result"
    },
    {
     "data": {
      "image/png": "[encoded data removed]",
      "text/plain": [
       "<Figure size 432x288 with 1 Axes>"
      ]
     },
     "metadata": {
      "needs_background": "light"
     },
     "output_type": "display_data"
    }
   ],
   "source": [
    "df_train['Open'].plot()"
   ]
  },
  {
   "cell_type": "code",
   "execution_count": 11,
   "metadata": {},
   "outputs": [
    {
     "name": "stdout",
     "output_type": "stream",
     "text": [
      "<class 'pandas.core.frame.DataFrame'>\n",
      "DatetimeIndex: 20 entries, 2017-01-03 to 2017-01-31\n",
      "Data columns (total 5 columns):\n",
      " #   Column  Non-Null Count  Dtype  \n",
      "---  ------  --------------  -----  \n",
      " 0   Open    20 non-null     float64\n",
      " 1   High    20 non-null     float64\n",
      " 2   Low     20 non-null     float64\n",
      " 3   Close   20 non-null     float64\n",
      " 4   Volume  20 non-null     object \n",
      "dtypes: float64(4), object(1)\n",
      "memory usage: 960.0+ bytes\n"
     ]
    }
   ],
   "source": [
    "df_test.info()"
   ]
  },
  {
   "cell_type": "code",
   "execution_count": 12,
   "metadata": {},
   "outputs": [],
   "source": [
    "df_test['Volume'] = df_test['Volume'].apply(lambda x: float(''.join(x.split(','))))"
   ]
  },
  {
   "cell_type": "code",
   "execution_count": 13,
   "metadata": {},
   "outputs": [],
   "source": [
    "test_size = len(df_test)"
   ]
  },
  {
   "cell_type": "code",
   "execution_count": 14,
   "metadata": {},
   "outputs": [
    {
     "data": {
      "text/plain": [
       "20"
      ]
     },
     "execution_count": 14,
     "metadata": {},
     "output_type": "execute_result"
    }
   ],
   "source": [
    "test_size"
   ]
  },
  {
   "cell_type": "code",
   "execution_count": 15,
   "metadata": {},
   "outputs": [],
   "source": [
    "from sklearn.preprocessing import MinMaxScaler"
   ]
  },
  {
   "cell_type": "code",
   "execution_count": 16,
   "metadata": {},
   "outputs": [],
   "source": [
    "scaler = MinMaxScaler()"
   ]
  },
  {
   "cell_type": "code",
   "execution_count": 17,
   "metadata": {},
   "outputs": [
    {
     "data": {
      "text/plain": [
       "MinMaxScaler()"
      ]
     },
     "execution_count": 17,
     "metadata": {},
     "output_type": "execute_result"
    }
   ],
   "source": [
    "scaler.fit(df_train)"
   ]
  },
  {
   "cell_type": "code",
   "execution_count": 18,
   "metadata": {},
   "outputs": [],
   "source": [
    "scaled_train = scaler.transform(df_train)\n",
    "scaled_test = scaler.transform(df_test)"
   ]
  },
  {
   "cell_type": "code",
   "execution_count": 19,
   "metadata": {},
   "outputs": [],
   "source": [
    "from tensorflow.keras.preprocessing.sequence import TimeseriesGenerator"
   ]
  },
  {
   "cell_type": "code",
   "execution_count": 20,
   "metadata": {},
   "outputs": [],
   "source": [
    "length = 10"
   ]
  },
  {
   "cell_type": "code",
   "execution_count": 21,
   "metadata": {},
   "outputs": [],
   "source": [
    "generator = TimeseriesGenerator(scaled_train, scaled_train, length = length , batch_size=1)\n",
    "val_generator = TimeseriesGenerator(scaled_test, scaled_test, length=length, batch_size=1)"
   ]
  },
  {
   "cell_type": "code",
   "execution_count": 22,
   "metadata": {},
   "outputs": [
    {
     "data": {
      "text/plain": [
       "(1258, 5)"
      ]
     },
     "execution_count": 22,
     "metadata": {},
     "output_type": "execute_result"
    }
   ],
   "source": [
    "scaled_train.shape"
   ]
  },
  {
   "cell_type": "code",
   "execution_count": 23,
   "metadata": {},
   "outputs": [],
   "source": [
    "n_features = scaled_train.shape[1]"
   ]
  },
  {
   "cell_type": "code",
   "execution_count": 24,
   "metadata": {},
   "outputs": [],
   "source": [
    "from tensorflow.keras.models import Sequential"
   ]
  },
  {
   "cell_type": "code",
   "execution_count": 25,
   "metadata": {},
   "outputs": [],
   "source": [
    "from tensorflow.keras.layers import Dense, LSTM, Dropout"
   ]
  },
  {
   "cell_type": "code",
   "execution_count": 26,
   "metadata": {},
   "outputs": [],
   "source": [
    "model = Sequential()\n",
    "\n",
    "model.add(LSTM(50, activation='relu',return_sequences=True, input_shape=(length, n_features)))\n",
    "model.add(Dropout(0.1))\n",
    "model.add(LSTM(50, activation='relu',return_sequences=True, input_shape=(length, n_features)))\n",
    "model.add(Dropout(0.1))\n",
    "model.add(LSTM(50, activation='relu', input_shape=(length, n_features)))\n",
    "model.add(Dense(n_features))\n",
    "\n",
    "model.compile(optimizer='adam', loss = 'mse')"
   ]
  },
  {
   "cell_type": "code",
   "execution_count": 27,
   "metadata": {},
   "outputs": [
    {
     "name": "stdout",
     "output_type": "stream",
     "text": [
      "Model: \"sequential\"\n",
      "_________________________________________________________________\n",
      "Layer (type)                 Output Shape              Param #   \n",
      "=================================================================\n",
      "lstm (LSTM)                  (None, 10, 50)            11200     \n",
      "_________________________________________________________________\n",
      "dropout (Dropout)            (None, 10, 50)            0         \n",
      "_________________________________________________________________\n",
      "lstm_1 (LSTM)                (None, 10, 50)            20200     \n",
      "_________________________________________________________________\n",
      "dropout_1 (Dropout)          (None, 10, 50)            0         \n",
      "_________________________________________________________________\n",
      "lstm_2 (LSTM)                (None, 50)                20200     \n",
      "_________________________________________________________________\n",
      "dense (Dense)                (None, 5)                 255       \n",
      "=================================================================\n",
      "Total params: 51,855\n",
      "Trainable params: 51,855\n",
      "Non-trainable params: 0\n",
      "_________________________________________________________________\n"
     ]
    }
   ],
   "source": [
    "model.summary()"
   ]
  },
  {
   "cell_type": "code",
   "execution_count": 28,
   "metadata": {},
   "outputs": [],
   "source": [
    "from tensorflow.keras.callbacks import EarlyStopping"
   ]
  },
  {
   "cell_type": "code",
   "execution_count": 29,
   "metadata": {},
   "outputs": [],
   "source": [
    "early = EarlyStopping(monitor='val_loss', patience=1)"
   ]
  },
  {
   "cell_type": "code",
   "execution_count": 30,
   "metadata": {},
   "outputs": [
    {
     "name": "stdout",
     "output_type": "stream",
     "text": [
      "Epoch 1/8\n",
      "1248/1248 [==============================] - 15s 8ms/step - loss: 0.0312 - val_loss: 0.0014\n",
      "Epoch 2/8\n",
      "1248/1248 [==============================] - 8s 6ms/step - loss: 0.0036 - val_loss: 0.0010\n",
      "Epoch 3/8\n",
      "1248/1248 [==============================] - 8s 6ms/step - loss: 0.0034 - val_loss: 0.0041\n"
     ]
    },
    {
     "data": {
      "text/plain": [
       "<tensorflow.python.keras.callbacks.History at 0x1c75f8afd00>"
      ]
     },
     "execution_count": 30,
     "metadata": {},
     "output_type": "execute_result"
    }
   ],
   "source": [
    "model.fit(generator, \n",
    "          epochs=8, \n",
    "          validation_data=val_generator, \n",
    "          callbacks = [early]\n",
    "         )"
   ]
  },
  {
   "cell_type": "code",
   "execution_count": 31,
   "metadata": {},
   "outputs": [],
   "source": [
    "loss = pd.DataFrame(model.history.history)"
   ]
  },
  {
   "cell_type": "code",
   "execution_count": 32,
   "metadata": {},
   "outputs": [
    {
     "data": {
      "text/plain": [
       "<matplotlib.axes._subplots.AxesSubplot at 0x1c76562a550>"
      ]
     },
     "execution_count": 32,
     "metadata": {},
     "output_type": "execute_result"
    },
    {
     "data": {
      "image/png": "[encoded data removed]",
      "text/plain": [
       "<Figure size 432x288 with 1 Axes>"
      ]
     },
     "metadata": {
      "needs_background": "light"
     },
     "output_type": "display_data"
    }
   ],
   "source": [
    "loss.plot()"
   ]
  },
  {
   "cell_type": "code",
   "execution_count": 33,
   "metadata": {},
   "outputs": [],
   "source": [
    "test_predictions = []\n",
    "n_features = scaled_train.shape[1]\n",
    "first_eval_batch = scaled_train[-length:]\n",
    "current_batch = first_eval_batch.reshape((1, length, n_features))\n",
    "\n",
    "for i in range(len(df_test)):\n",
    "    \n",
    "    # get prediction 1 time stamp ahead ([0] is for grabbing just the number instead of [array])\n",
    "    current_pred = model.predict(current_batch)[0]\n",
    "    \n",
    "    # store prediction\n",
    "    test_predictions.append(current_pred) \n",
    "    \n",
    "    # update batch to now include prediction and drop first value\n",
    "    current_batch = np.append(current_batch[:,1:,:],[[current_pred]],axis=1)"
   ]
  },
  {
   "cell_type": "code",
   "execution_count": 34,
   "metadata": {},
   "outputs": [],
   "source": [
    "true_prediction = scaler.inverse_transform(test_predictions)"
   ]
  },
  {
   "cell_type": "code",
   "execution_count": 35,
   "metadata": {},
   "outputs": [
    {
     "data": {
      "text/plain": [
       "array([[8.29800883e+02, 8.45773166e+02, 8.27735642e+02, 7.75848523e+02,\n",
       "        1.12660182e+06],\n",
       "       [8.30636386e+02, 8.46393686e+02, 8.28568874e+02, 7.77424846e+02,\n",
       "        1.11785994e+06],\n",
       "       [8.33797431e+02, 8.49323238e+02, 8.31721124e+02, 7.81303913e+02,\n",
       "        1.10283787e+06],\n",
       "       [8.36887600e+02, 8.52237916e+02, 8.34821642e+02, 7.84771815e+02,\n",
       "        1.09275315e+06],\n",
       "       [8.40906255e+02, 8.56398998e+02, 8.39019649e+02, 7.88264327e+02,\n",
       "        1.08257764e+06],\n",
       "       [8.44417508e+02, 8.60234723e+02, 8.42812430e+02, 7.90765030e+02,\n",
       "        1.07672516e+06],\n",
       "       [8.48783233e+02, 8.65082648e+02, 8.47536934e+02, 7.93842614e+02,\n",
       "        1.06794365e+06],\n",
       "       [8.53964018e+02, 8.70884429e+02, 8.53133877e+02, 7.97459645e+02,\n",
       "        1.05627721e+06],\n",
       "       [8.59886746e+02, 8.77692473e+02, 8.59612386e+02, 8.01226627e+02,\n",
       "        1.04175373e+06],\n",
       "       [8.66980383e+02, 8.85934016e+02, 8.67409151e+02, 8.05621569e+02,\n",
       "        1.02277643e+06],\n",
       "       [8.75532722e+02, 8.95933710e+02, 8.76817252e+02, 8.10990176e+02,\n",
       "        9.97379603e+05],\n",
       "       [8.80006361e+02, 9.00648224e+02, 8.81476180e+02, 8.15028449e+02,\n",
       "        9.80933765e+05],\n",
       "       [8.84946389e+02, 9.05953831e+02, 8.86667395e+02, 8.19223139e+02,\n",
       "        9.64157518e+05],\n",
       "       [8.90129738e+02, 9.11574008e+02, 8.92143570e+02, 8.23485734e+02,\n",
       "        9.47013840e+05],\n",
       "       [8.95415169e+02, 9.17382427e+02, 8.97774182e+02, 8.27650862e+02,\n",
       "        9.30288196e+05],\n",
       "       [9.00971091e+02, 9.23511097e+02, 9.03704041e+02, 8.32019854e+02,\n",
       "        9.12460259e+05],\n",
       "       [9.06804233e+02, 9.29977572e+02, 9.09944600e+02, 8.36572770e+02,\n",
       "        8.93489287e+05],\n",
       "       [9.12786749e+02, 9.36632353e+02, 9.16358917e+02, 8.41218610e+02,\n",
       "        8.73865496e+05],\n",
       "       [9.18849113e+02, 9.43378033e+02, 9.22861466e+02, 8.45939751e+02,\n",
       "        8.53743488e+05],\n",
       "       [9.24917692e+02, 9.50113563e+02, 9.29361120e+02, 8.50710500e+02,\n",
       "        8.33166051e+05]])"
      ]
     },
     "execution_count": 35,
     "metadata": {},
     "output_type": "execute_result"
    }
   ],
   "source": [
    "true_prediction"
   ]
  },
  {
   "cell_type": "code",
   "execution_count": 36,
   "metadata": {},
   "outputs": [
    {
     "data": {
      "text/html": [
       "<div>\n",
       "<style scoped>\n",
       "    .dataframe tbody tr th:only-of-type {\n",
       "        vertical-align: middle;\n",
       "    }\n",
       "\n",
       "    .dataframe tbody tr th {\n",
       "        vertical-align: top;\n",
       "    }\n",
       "\n",
       "    .dataframe thead th {\n",
       "        text-align: right;\n",
       "    }\n",
       "</style>\n",
       "<table border=\"1\" class=\"dataframe\">\n",
       "  <thead>\n",
       "    <tr style=\"text-align: right;\">\n",
       "      <th></th>\n",
       "      <th>Open</th>\n",
       "      <th>High</th>\n",
       "      <th>Low</th>\n",
       "      <th>Close</th>\n",
       "      <th>Volume</th>\n",
       "    </tr>\n",
       "    <tr>\n",
       "      <th>Date</th>\n",
       "      <th></th>\n",
       "      <th></th>\n",
       "      <th></th>\n",
       "      <th></th>\n",
       "      <th></th>\n",
       "    </tr>\n",
       "  </thead>\n",
       "  <tbody>\n",
       "    <tr>\n",
       "      <th>2016-12-23</th>\n",
       "      <td>790.90</td>\n",
       "      <td>792.74</td>\n",
       "      <td>787.28</td>\n",
       "      <td>789.91</td>\n",
       "      <td>623400.0</td>\n",
       "    </tr>\n",
       "    <tr>\n",
       "      <th>2016-12-27</th>\n",
       "      <td>790.68</td>\n",
       "      <td>797.86</td>\n",
       "      <td>787.66</td>\n",
       "      <td>791.55</td>\n",
       "      <td>789100.0</td>\n",
       "    </tr>\n",
       "    <tr>\n",
       "      <th>2016-12-28</th>\n",
       "      <td>793.70</td>\n",
       "      <td>794.23</td>\n",
       "      <td>783.20</td>\n",
       "      <td>785.05</td>\n",
       "      <td>1153800.0</td>\n",
       "    </tr>\n",
       "    <tr>\n",
       "      <th>2016-12-29</th>\n",
       "      <td>783.33</td>\n",
       "      <td>785.93</td>\n",
       "      <td>778.92</td>\n",
       "      <td>782.79</td>\n",
       "      <td>744300.0</td>\n",
       "    </tr>\n",
       "    <tr>\n",
       "      <th>2016-12-30</th>\n",
       "      <td>782.75</td>\n",
       "      <td>782.78</td>\n",
       "      <td>770.41</td>\n",
       "      <td>771.82</td>\n",
       "      <td>1770000.0</td>\n",
       "    </tr>\n",
       "  </tbody>\n",
       "</table>\n",
       "</div>"
      ],
      "text/plain": [
       "              Open    High     Low   Close     Volume\n",
       "Date                                                 \n",
       "2016-12-23  790.90  792.74  787.28  789.91   623400.0\n",
       "2016-12-27  790.68  797.86  787.66  791.55   789100.0\n",
       "2016-12-28  793.70  794.23  783.20  785.05  1153800.0\n",
       "2016-12-29  783.33  785.93  778.92  782.79   744300.0\n",
       "2016-12-30  782.75  782.78  770.41  771.82  1770000.0"
      ]
     },
     "execution_count": 36,
     "metadata": {},
     "output_type": "execute_result"
    }
   ],
   "source": [
    "df_train.tail()"
   ]
  },
  {
   "cell_type": "code",
   "execution_count": 37,
   "metadata": {},
   "outputs": [],
   "source": [
    "ind = df_test.index"
   ]
  },
  {
   "cell_type": "code",
   "execution_count": null,
   "metadata": {},
   "outputs": [],
   "source": []
  },
  {
   "cell_type": "code",
   "execution_count": 38,
   "metadata": {},
   "outputs": [],
   "source": [
    "true_prediction = pd.DataFrame(true_prediction,index=ind, columns=['P_Open', 'P_High', 'P_Low', 'P_Close', 'P_Volume'])"
   ]
  },
  {
   "cell_type": "code",
   "execution_count": 39,
   "metadata": {},
   "outputs": [
    {
     "data": {
      "text/html": [
       "<div>\n",
       "<style scoped>\n",
       "    .dataframe tbody tr th:only-of-type {\n",
       "        vertical-align: middle;\n",
       "    }\n",
       "\n",
       "    .dataframe tbody tr th {\n",
       "        vertical-align: top;\n",
       "    }\n",
       "\n",
       "    .dataframe thead th {\n",
       "        text-align: right;\n",
       "    }\n",
       "</style>\n",
       "<table border=\"1\" class=\"dataframe\">\n",
       "  <thead>\n",
       "    <tr style=\"text-align: right;\">\n",
       "      <th></th>\n",
       "      <th>P_Open</th>\n",
       "      <th>P_High</th>\n",
       "      <th>P_Low</th>\n",
       "      <th>P_Close</th>\n",
       "      <th>P_Volume</th>\n",
       "    </tr>\n",
       "    <tr>\n",
       "      <th>Date</th>\n",
       "      <th></th>\n",
       "      <th></th>\n",
       "      <th></th>\n",
       "      <th></th>\n",
       "      <th></th>\n",
       "    </tr>\n",
       "  </thead>\n",
       "  <tbody>\n",
       "    <tr>\n",
       "      <th>2017-01-03</th>\n",
       "      <td>829.800883</td>\n",
       "      <td>845.773166</td>\n",
       "      <td>827.735642</td>\n",
       "      <td>775.848523</td>\n",
       "      <td>1.126602e+06</td>\n",
       "    </tr>\n",
       "    <tr>\n",
       "      <th>2017-01-04</th>\n",
       "      <td>830.636386</td>\n",
       "      <td>846.393686</td>\n",
       "      <td>828.568874</td>\n",
       "      <td>777.424846</td>\n",
       "      <td>1.117860e+06</td>\n",
       "    </tr>\n",
       "    <tr>\n",
       "      <th>2017-01-05</th>\n",
       "      <td>833.797431</td>\n",
       "      <td>849.323238</td>\n",
       "      <td>831.721124</td>\n",
       "      <td>781.303913</td>\n",
       "      <td>1.102838e+06</td>\n",
       "    </tr>\n",
       "    <tr>\n",
       "      <th>2017-01-06</th>\n",
       "      <td>836.887600</td>\n",
       "      <td>852.237916</td>\n",
       "      <td>834.821642</td>\n",
       "      <td>784.771815</td>\n",
       "      <td>1.092753e+06</td>\n",
       "    </tr>\n",
       "    <tr>\n",
       "      <th>2017-01-09</th>\n",
       "      <td>840.906255</td>\n",
       "      <td>856.398998</td>\n",
       "      <td>839.019649</td>\n",
       "      <td>788.264327</td>\n",
       "      <td>1.082578e+06</td>\n",
       "    </tr>\n",
       "    <tr>\n",
       "      <th>2017-01-10</th>\n",
       "      <td>844.417508</td>\n",
       "      <td>860.234723</td>\n",
       "      <td>842.812430</td>\n",
       "      <td>790.765030</td>\n",
       "      <td>1.076725e+06</td>\n",
       "    </tr>\n",
       "    <tr>\n",
       "      <th>2017-01-11</th>\n",
       "      <td>848.783233</td>\n",
       "      <td>865.082648</td>\n",
       "      <td>847.536934</td>\n",
       "      <td>793.842614</td>\n",
       "      <td>1.067944e+06</td>\n",
       "    </tr>\n",
       "    <tr>\n",
       "      <th>2017-01-12</th>\n",
       "      <td>853.964018</td>\n",
       "      <td>870.884429</td>\n",
       "      <td>853.133877</td>\n",
       "      <td>797.459645</td>\n",
       "      <td>1.056277e+06</td>\n",
       "    </tr>\n",
       "    <tr>\n",
       "      <th>2017-01-13</th>\n",
       "      <td>859.886746</td>\n",
       "      <td>877.692473</td>\n",
       "      <td>859.612386</td>\n",
       "      <td>801.226627</td>\n",
       "      <td>1.041754e+06</td>\n",
       "    </tr>\n",
       "    <tr>\n",
       "      <th>2017-01-17</th>\n",
       "      <td>866.980383</td>\n",
       "      <td>885.934016</td>\n",
       "      <td>867.409151</td>\n",
       "      <td>805.621569</td>\n",
       "      <td>1.022776e+06</td>\n",
       "    </tr>\n",
       "    <tr>\n",
       "      <th>2017-01-18</th>\n",
       "      <td>875.532722</td>\n",
       "      <td>895.933710</td>\n",
       "      <td>876.817252</td>\n",
       "      <td>810.990176</td>\n",
       "      <td>9.973796e+05</td>\n",
       "    </tr>\n",
       "    <tr>\n",
       "      <th>2017-01-19</th>\n",
       "      <td>880.006361</td>\n",
       "      <td>900.648224</td>\n",
       "      <td>881.476180</td>\n",
       "      <td>815.028449</td>\n",
       "      <td>9.809338e+05</td>\n",
       "    </tr>\n",
       "    <tr>\n",
       "      <th>2017-01-20</th>\n",
       "      <td>884.946389</td>\n",
       "      <td>905.953831</td>\n",
       "      <td>886.667395</td>\n",
       "      <td>819.223139</td>\n",
       "      <td>9.641575e+05</td>\n",
       "    </tr>\n",
       "    <tr>\n",
       "      <th>2017-01-23</th>\n",
       "      <td>890.129738</td>\n",
       "      <td>911.574008</td>\n",
       "      <td>892.143570</td>\n",
       "      <td>823.485734</td>\n",
       "      <td>9.470138e+05</td>\n",
       "    </tr>\n",
       "    <tr>\n",
       "      <th>2017-01-24</th>\n",
       "      <td>895.415169</td>\n",
       "      <td>917.382427</td>\n",
       "      <td>897.774182</td>\n",
       "      <td>827.650862</td>\n",
       "      <td>9.302882e+05</td>\n",
       "    </tr>\n",
       "    <tr>\n",
       "      <th>2017-01-25</th>\n",
       "      <td>900.971091</td>\n",
       "      <td>923.511097</td>\n",
       "      <td>903.704041</td>\n",
       "      <td>832.019854</td>\n",
       "      <td>9.124603e+05</td>\n",
       "    </tr>\n",
       "    <tr>\n",
       "      <th>2017-01-26</th>\n",
       "      <td>906.804233</td>\n",
       "      <td>929.977572</td>\n",
       "      <td>909.944600</td>\n",
       "      <td>836.572770</td>\n",
       "      <td>8.934893e+05</td>\n",
       "    </tr>\n",
       "    <tr>\n",
       "      <th>2017-01-27</th>\n",
       "      <td>912.786749</td>\n",
       "      <td>936.632353</td>\n",
       "      <td>916.358917</td>\n",
       "      <td>841.218610</td>\n",
       "      <td>8.738655e+05</td>\n",
       "    </tr>\n",
       "    <tr>\n",
       "      <th>2017-01-30</th>\n",
       "      <td>918.849113</td>\n",
       "      <td>943.378033</td>\n",
       "      <td>922.861466</td>\n",
       "      <td>845.939751</td>\n",
       "      <td>8.537435e+05</td>\n",
       "    </tr>\n",
       "    <tr>\n",
       "      <th>2017-01-31</th>\n",
       "      <td>924.917692</td>\n",
       "      <td>950.113563</td>\n",
       "      <td>929.361120</td>\n",
       "      <td>850.710500</td>\n",
       "      <td>8.331661e+05</td>\n",
       "    </tr>\n",
       "  </tbody>\n",
       "</table>\n",
       "</div>"
      ],
      "text/plain": [
       "                P_Open      P_High       P_Low     P_Close      P_Volume\n",
       "Date                                                                    \n",
       "2017-01-03  829.800883  845.773166  827.735642  775.848523  1.126602e+06\n",
       "2017-01-04  830.636386  846.393686  828.568874  777.424846  1.117860e+06\n",
       "2017-01-05  833.797431  849.323238  831.721124  781.303913  1.102838e+06\n",
       "2017-01-06  836.887600  852.237916  834.821642  784.771815  1.092753e+06\n",
       "2017-01-09  840.906255  856.398998  839.019649  788.264327  1.082578e+06\n",
       "2017-01-10  844.417508  860.234723  842.812430  790.765030  1.076725e+06\n",
       "2017-01-11  848.783233  865.082648  847.536934  793.842614  1.067944e+06\n",
       "2017-01-12  853.964018  870.884429  853.133877  797.459645  1.056277e+06\n",
       "2017-01-13  859.886746  877.692473  859.612386  801.226627  1.041754e+06\n",
       "2017-01-17  866.980383  885.934016  867.409151  805.621569  1.022776e+06\n",
       "2017-01-18  875.532722  895.933710  876.817252  810.990176  9.973796e+05\n",
       "2017-01-19  880.006361  900.648224  881.476180  815.028449  9.809338e+05\n",
       "2017-01-20  884.946389  905.953831  886.667395  819.223139  9.641575e+05\n",
       "2017-01-23  890.129738  911.574008  892.143570  823.485734  9.470138e+05\n",
       "2017-01-24  895.415169  917.382427  897.774182  827.650862  9.302882e+05\n",
       "2017-01-25  900.971091  923.511097  903.704041  832.019854  9.124603e+05\n",
       "2017-01-26  906.804233  929.977572  909.944600  836.572770  8.934893e+05\n",
       "2017-01-27  912.786749  936.632353  916.358917  841.218610  8.738655e+05\n",
       "2017-01-30  918.849113  943.378033  922.861466  845.939751  8.537435e+05\n",
       "2017-01-31  924.917692  950.113563  929.361120  850.710500  8.331661e+05"
      ]
     },
     "execution_count": 39,
     "metadata": {},
     "output_type": "execute_result"
    }
   ],
   "source": [
    "true_prediction"
   ]
  },
  {
   "cell_type": "code",
   "execution_count": 40,
   "metadata": {},
   "outputs": [
    {
     "data": {
      "text/html": [
       "<div>\n",
       "<style scoped>\n",
       "    .dataframe tbody tr th:only-of-type {\n",
       "        vertical-align: middle;\n",
       "    }\n",
       "\n",
       "    .dataframe tbody tr th {\n",
       "        vertical-align: top;\n",
       "    }\n",
       "\n",
       "    .dataframe thead th {\n",
       "        text-align: right;\n",
       "    }\n",
       "</style>\n",
       "<table border=\"1\" class=\"dataframe\">\n",
       "  <thead>\n",
       "    <tr style=\"text-align: right;\">\n",
       "      <th></th>\n",
       "      <th>Open</th>\n",
       "      <th>High</th>\n",
       "      <th>Low</th>\n",
       "      <th>Close</th>\n",
       "      <th>Volume</th>\n",
       "    </tr>\n",
       "    <tr>\n",
       "      <th>Date</th>\n",
       "      <th></th>\n",
       "      <th></th>\n",
       "      <th></th>\n",
       "      <th></th>\n",
       "      <th></th>\n",
       "    </tr>\n",
       "  </thead>\n",
       "  <tbody>\n",
       "    <tr>\n",
       "      <th>2017-01-03</th>\n",
       "      <td>778.81</td>\n",
       "      <td>789.63</td>\n",
       "      <td>775.80</td>\n",
       "      <td>786.14</td>\n",
       "      <td>1657300.0</td>\n",
       "    </tr>\n",
       "    <tr>\n",
       "      <th>2017-01-04</th>\n",
       "      <td>788.36</td>\n",
       "      <td>791.34</td>\n",
       "      <td>783.16</td>\n",
       "      <td>786.90</td>\n",
       "      <td>1073000.0</td>\n",
       "    </tr>\n",
       "    <tr>\n",
       "      <th>2017-01-05</th>\n",
       "      <td>786.08</td>\n",
       "      <td>794.48</td>\n",
       "      <td>785.02</td>\n",
       "      <td>794.02</td>\n",
       "      <td>1335200.0</td>\n",
       "    </tr>\n",
       "    <tr>\n",
       "      <th>2017-01-06</th>\n",
       "      <td>795.26</td>\n",
       "      <td>807.90</td>\n",
       "      <td>792.20</td>\n",
       "      <td>806.15</td>\n",
       "      <td>1640200.0</td>\n",
       "    </tr>\n",
       "    <tr>\n",
       "      <th>2017-01-09</th>\n",
       "      <td>806.40</td>\n",
       "      <td>809.97</td>\n",
       "      <td>802.83</td>\n",
       "      <td>806.65</td>\n",
       "      <td>1272400.0</td>\n",
       "    </tr>\n",
       "    <tr>\n",
       "      <th>2017-01-10</th>\n",
       "      <td>807.86</td>\n",
       "      <td>809.13</td>\n",
       "      <td>803.51</td>\n",
       "      <td>804.79</td>\n",
       "      <td>1176800.0</td>\n",
       "    </tr>\n",
       "    <tr>\n",
       "      <th>2017-01-11</th>\n",
       "      <td>805.00</td>\n",
       "      <td>808.15</td>\n",
       "      <td>801.37</td>\n",
       "      <td>807.91</td>\n",
       "      <td>1065900.0</td>\n",
       "    </tr>\n",
       "    <tr>\n",
       "      <th>2017-01-12</th>\n",
       "      <td>807.14</td>\n",
       "      <td>807.39</td>\n",
       "      <td>799.17</td>\n",
       "      <td>806.36</td>\n",
       "      <td>1353100.0</td>\n",
       "    </tr>\n",
       "    <tr>\n",
       "      <th>2017-01-13</th>\n",
       "      <td>807.48</td>\n",
       "      <td>811.22</td>\n",
       "      <td>806.69</td>\n",
       "      <td>807.88</td>\n",
       "      <td>1099200.0</td>\n",
       "    </tr>\n",
       "    <tr>\n",
       "      <th>2017-01-17</th>\n",
       "      <td>807.08</td>\n",
       "      <td>807.14</td>\n",
       "      <td>800.37</td>\n",
       "      <td>804.61</td>\n",
       "      <td>1362100.0</td>\n",
       "    </tr>\n",
       "    <tr>\n",
       "      <th>2017-01-18</th>\n",
       "      <td>805.81</td>\n",
       "      <td>806.21</td>\n",
       "      <td>800.99</td>\n",
       "      <td>806.07</td>\n",
       "      <td>1294400.0</td>\n",
       "    </tr>\n",
       "    <tr>\n",
       "      <th>2017-01-19</th>\n",
       "      <td>805.12</td>\n",
       "      <td>809.48</td>\n",
       "      <td>801.80</td>\n",
       "      <td>802.17</td>\n",
       "      <td>919300.0</td>\n",
       "    </tr>\n",
       "    <tr>\n",
       "      <th>2017-01-20</th>\n",
       "      <td>806.91</td>\n",
       "      <td>806.91</td>\n",
       "      <td>801.69</td>\n",
       "      <td>805.02</td>\n",
       "      <td>1670000.0</td>\n",
       "    </tr>\n",
       "    <tr>\n",
       "      <th>2017-01-23</th>\n",
       "      <td>807.25</td>\n",
       "      <td>820.87</td>\n",
       "      <td>803.74</td>\n",
       "      <td>819.31</td>\n",
       "      <td>1963600.0</td>\n",
       "    </tr>\n",
       "    <tr>\n",
       "      <th>2017-01-24</th>\n",
       "      <td>822.30</td>\n",
       "      <td>825.90</td>\n",
       "      <td>817.82</td>\n",
       "      <td>823.87</td>\n",
       "      <td>1474000.0</td>\n",
       "    </tr>\n",
       "    <tr>\n",
       "      <th>2017-01-25</th>\n",
       "      <td>829.62</td>\n",
       "      <td>835.77</td>\n",
       "      <td>825.06</td>\n",
       "      <td>835.67</td>\n",
       "      <td>1494500.0</td>\n",
       "    </tr>\n",
       "    <tr>\n",
       "      <th>2017-01-26</th>\n",
       "      <td>837.81</td>\n",
       "      <td>838.00</td>\n",
       "      <td>827.01</td>\n",
       "      <td>832.15</td>\n",
       "      <td>2973900.0</td>\n",
       "    </tr>\n",
       "    <tr>\n",
       "      <th>2017-01-27</th>\n",
       "      <td>834.71</td>\n",
       "      <td>841.95</td>\n",
       "      <td>820.44</td>\n",
       "      <td>823.31</td>\n",
       "      <td>2965800.0</td>\n",
       "    </tr>\n",
       "    <tr>\n",
       "      <th>2017-01-30</th>\n",
       "      <td>814.66</td>\n",
       "      <td>815.84</td>\n",
       "      <td>799.80</td>\n",
       "      <td>802.32</td>\n",
       "      <td>3246600.0</td>\n",
       "    </tr>\n",
       "    <tr>\n",
       "      <th>2017-01-31</th>\n",
       "      <td>796.86</td>\n",
       "      <td>801.25</td>\n",
       "      <td>790.52</td>\n",
       "      <td>796.79</td>\n",
       "      <td>2160600.0</td>\n",
       "    </tr>\n",
       "  </tbody>\n",
       "</table>\n",
       "</div>"
      ],
      "text/plain": [
       "              Open    High     Low   Close     Volume\n",
       "Date                                                 \n",
       "2017-01-03  778.81  789.63  775.80  786.14  1657300.0\n",
       "2017-01-04  788.36  791.34  783.16  786.90  1073000.0\n",
       "2017-01-05  786.08  794.48  785.02  794.02  1335200.0\n",
       "2017-01-06  795.26  807.90  792.20  806.15  1640200.0\n",
       "2017-01-09  806.40  809.97  802.83  806.65  1272400.0\n",
       "2017-01-10  807.86  809.13  803.51  804.79  1176800.0\n",
       "2017-01-11  805.00  808.15  801.37  807.91  1065900.0\n",
       "2017-01-12  807.14  807.39  799.17  806.36  1353100.0\n",
       "2017-01-13  807.48  811.22  806.69  807.88  1099200.0\n",
       "2017-01-17  807.08  807.14  800.37  804.61  1362100.0\n",
       "2017-01-18  805.81  806.21  800.99  806.07  1294400.0\n",
       "2017-01-19  805.12  809.48  801.80  802.17   919300.0\n",
       "2017-01-20  806.91  806.91  801.69  805.02  1670000.0\n",
       "2017-01-23  807.25  820.87  803.74  819.31  1963600.0\n",
       "2017-01-24  822.30  825.90  817.82  823.87  1474000.0\n",
       "2017-01-25  829.62  835.77  825.06  835.67  1494500.0\n",
       "2017-01-26  837.81  838.00  827.01  832.15  2973900.0\n",
       "2017-01-27  834.71  841.95  820.44  823.31  2965800.0\n",
       "2017-01-30  814.66  815.84  799.80  802.32  3246600.0\n",
       "2017-01-31  796.86  801.25  790.52  796.79  2160600.0"
      ]
     },
     "execution_count": 40,
     "metadata": {},
     "output_type": "execute_result"
    }
   ],
   "source": [
    "df_test"
   ]
  },
  {
   "cell_type": "code",
   "execution_count": 41,
   "metadata": {},
   "outputs": [],
   "source": [
    "final_df = pd.concat([df_test, true_prediction], axis=1)"
   ]
  },
  {
   "cell_type": "code",
   "execution_count": 42,
   "metadata": {},
   "outputs": [
    {
     "data": {
      "text/html": [
       "<div>\n",
       "<style scoped>\n",
       "    .dataframe tbody tr th:only-of-type {\n",
       "        vertical-align: middle;\n",
       "    }\n",
       "\n",
       "    .dataframe tbody tr th {\n",
       "        vertical-align: top;\n",
       "    }\n",
       "\n",
       "    .dataframe thead th {\n",
       "        text-align: right;\n",
       "    }\n",
       "</style>\n",
       "<table border=\"1\" class=\"dataframe\">\n",
       "  <thead>\n",
       "    <tr style=\"text-align: right;\">\n",
       "      <th></th>\n",
       "      <th>Open</th>\n",
       "      <th>High</th>\n",
       "      <th>Low</th>\n",
       "      <th>Close</th>\n",
       "      <th>Volume</th>\n",
       "      <th>P_Open</th>\n",
       "      <th>P_High</th>\n",
       "      <th>P_Low</th>\n",
       "      <th>P_Close</th>\n",
       "      <th>P_Volume</th>\n",
       "    </tr>\n",
       "    <tr>\n",
       "      <th>Date</th>\n",
       "      <th></th>\n",
       "      <th></th>\n",
       "      <th></th>\n",
       "      <th></th>\n",
       "      <th></th>\n",
       "      <th></th>\n",
       "      <th></th>\n",
       "      <th></th>\n",
       "      <th></th>\n",
       "      <th></th>\n",
       "    </tr>\n",
       "  </thead>\n",
       "  <tbody>\n",
       "    <tr>\n",
       "      <th>2017-01-03</th>\n",
       "      <td>778.81</td>\n",
       "      <td>789.63</td>\n",
       "      <td>775.80</td>\n",
       "      <td>786.14</td>\n",
       "      <td>1657300.0</td>\n",
       "      <td>829.800883</td>\n",
       "      <td>845.773166</td>\n",
       "      <td>827.735642</td>\n",
       "      <td>775.848523</td>\n",
       "      <td>1.126602e+06</td>\n",
       "    </tr>\n",
       "    <tr>\n",
       "      <th>2017-01-04</th>\n",
       "      <td>788.36</td>\n",
       "      <td>791.34</td>\n",
       "      <td>783.16</td>\n",
       "      <td>786.90</td>\n",
       "      <td>1073000.0</td>\n",
       "      <td>830.636386</td>\n",
       "      <td>846.393686</td>\n",
       "      <td>828.568874</td>\n",
       "      <td>777.424846</td>\n",
       "      <td>1.117860e+06</td>\n",
       "    </tr>\n",
       "    <tr>\n",
       "      <th>2017-01-05</th>\n",
       "      <td>786.08</td>\n",
       "      <td>794.48</td>\n",
       "      <td>785.02</td>\n",
       "      <td>794.02</td>\n",
       "      <td>1335200.0</td>\n",
       "      <td>833.797431</td>\n",
       "      <td>849.323238</td>\n",
       "      <td>831.721124</td>\n",
       "      <td>781.303913</td>\n",
       "      <td>1.102838e+06</td>\n",
       "    </tr>\n",
       "    <tr>\n",
       "      <th>2017-01-06</th>\n",
       "      <td>795.26</td>\n",
       "      <td>807.90</td>\n",
       "      <td>792.20</td>\n",
       "      <td>806.15</td>\n",
       "      <td>1640200.0</td>\n",
       "      <td>836.887600</td>\n",
       "      <td>852.237916</td>\n",
       "      <td>834.821642</td>\n",
       "      <td>784.771815</td>\n",
       "      <td>1.092753e+06</td>\n",
       "    </tr>\n",
       "    <tr>\n",
       "      <th>2017-01-09</th>\n",
       "      <td>806.40</td>\n",
       "      <td>809.97</td>\n",
       "      <td>802.83</td>\n",
       "      <td>806.65</td>\n",
       "      <td>1272400.0</td>\n",
       "      <td>840.906255</td>\n",
       "      <td>856.398998</td>\n",
       "      <td>839.019649</td>\n",
       "      <td>788.264327</td>\n",
       "      <td>1.082578e+06</td>\n",
       "    </tr>\n",
       "    <tr>\n",
       "      <th>2017-01-10</th>\n",
       "      <td>807.86</td>\n",
       "      <td>809.13</td>\n",
       "      <td>803.51</td>\n",
       "      <td>804.79</td>\n",
       "      <td>1176800.0</td>\n",
       "      <td>844.417508</td>\n",
       "      <td>860.234723</td>\n",
       "      <td>842.812430</td>\n",
       "      <td>790.765030</td>\n",
       "      <td>1.076725e+06</td>\n",
       "    </tr>\n",
       "    <tr>\n",
       "      <th>2017-01-11</th>\n",
       "      <td>805.00</td>\n",
       "      <td>808.15</td>\n",
       "      <td>801.37</td>\n",
       "      <td>807.91</td>\n",
       "      <td>1065900.0</td>\n",
       "      <td>848.783233</td>\n",
       "      <td>865.082648</td>\n",
       "      <td>847.536934</td>\n",
       "      <td>793.842614</td>\n",
       "      <td>1.067944e+06</td>\n",
       "    </tr>\n",
       "    <tr>\n",
       "      <th>2017-01-12</th>\n",
       "      <td>807.14</td>\n",
       "      <td>807.39</td>\n",
       "      <td>799.17</td>\n",
       "      <td>806.36</td>\n",
       "      <td>1353100.0</td>\n",
       "      <td>853.964018</td>\n",
       "      <td>870.884429</td>\n",
       "      <td>853.133877</td>\n",
       "      <td>797.459645</td>\n",
       "      <td>1.056277e+06</td>\n",
       "    </tr>\n",
       "    <tr>\n",
       "      <th>2017-01-13</th>\n",
       "      <td>807.48</td>\n",
       "      <td>811.22</td>\n",
       "      <td>806.69</td>\n",
       "      <td>807.88</td>\n",
       "      <td>1099200.0</td>\n",
       "      <td>859.886746</td>\n",
       "      <td>877.692473</td>\n",
       "      <td>859.612386</td>\n",
       "      <td>801.226627</td>\n",
       "      <td>1.041754e+06</td>\n",
       "    </tr>\n",
       "    <tr>\n",
       "      <th>2017-01-17</th>\n",
       "      <td>807.08</td>\n",
       "      <td>807.14</td>\n",
       "      <td>800.37</td>\n",
       "      <td>804.61</td>\n",
       "      <td>1362100.0</td>\n",
       "      <td>866.980383</td>\n",
       "      <td>885.934016</td>\n",
       "      <td>867.409151</td>\n",
       "      <td>805.621569</td>\n",
       "      <td>1.022776e+06</td>\n",
       "    </tr>\n",
       "    <tr>\n",
       "      <th>2017-01-18</th>\n",
       "      <td>805.81</td>\n",
       "      <td>806.21</td>\n",
       "      <td>800.99</td>\n",
       "      <td>806.07</td>\n",
       "      <td>1294400.0</td>\n",
       "      <td>875.532722</td>\n",
       "      <td>895.933710</td>\n",
       "      <td>876.817252</td>\n",
       "      <td>810.990176</td>\n",
       "      <td>9.973796e+05</td>\n",
       "    </tr>\n",
       "    <tr>\n",
       "      <th>2017-01-19</th>\n",
       "      <td>805.12</td>\n",
       "      <td>809.48</td>\n",
       "      <td>801.80</td>\n",
       "      <td>802.17</td>\n",
       "      <td>919300.0</td>\n",
       "      <td>880.006361</td>\n",
       "      <td>900.648224</td>\n",
       "      <td>881.476180</td>\n",
       "      <td>815.028449</td>\n",
       "      <td>9.809338e+05</td>\n",
       "    </tr>\n",
       "    <tr>\n",
       "      <th>2017-01-20</th>\n",
       "      <td>806.91</td>\n",
       "      <td>806.91</td>\n",
       "      <td>801.69</td>\n",
       "      <td>805.02</td>\n",
       "      <td>1670000.0</td>\n",
       "      <td>884.946389</td>\n",
       "      <td>905.953831</td>\n",
       "      <td>886.667395</td>\n",
       "      <td>819.223139</td>\n",
       "      <td>9.641575e+05</td>\n",
       "    </tr>\n",
       "    <tr>\n",
       "      <th>2017-01-23</th>\n",
       "      <td>807.25</td>\n",
       "      <td>820.87</td>\n",
       "      <td>803.74</td>\n",
       "      <td>819.31</td>\n",
       "      <td>1963600.0</td>\n",
       "      <td>890.129738</td>\n",
       "      <td>911.574008</td>\n",
       "      <td>892.143570</td>\n",
       "      <td>823.485734</td>\n",
       "      <td>9.470138e+05</td>\n",
       "    </tr>\n",
       "    <tr>\n",
       "      <th>2017-01-24</th>\n",
       "      <td>822.30</td>\n",
       "      <td>825.90</td>\n",
       "      <td>817.82</td>\n",
       "      <td>823.87</td>\n",
       "      <td>1474000.0</td>\n",
       "      <td>895.415169</td>\n",
       "      <td>917.382427</td>\n",
       "      <td>897.774182</td>\n",
       "      <td>827.650862</td>\n",
       "      <td>9.302882e+05</td>\n",
       "    </tr>\n",
       "    <tr>\n",
       "      <th>2017-01-25</th>\n",
       "      <td>829.62</td>\n",
       "      <td>835.77</td>\n",
       "      <td>825.06</td>\n",
       "      <td>835.67</td>\n",
       "      <td>1494500.0</td>\n",
       "      <td>900.971091</td>\n",
       "      <td>923.511097</td>\n",
       "      <td>903.704041</td>\n",
       "      <td>832.019854</td>\n",
       "      <td>9.124603e+05</td>\n",
       "    </tr>\n",
       "    <tr>\n",
       "      <th>2017-01-26</th>\n",
       "      <td>837.81</td>\n",
       "      <td>838.00</td>\n",
       "      <td>827.01</td>\n",
       "      <td>832.15</td>\n",
       "      <td>2973900.0</td>\n",
       "      <td>906.804233</td>\n",
       "      <td>929.977572</td>\n",
       "      <td>909.944600</td>\n",
       "      <td>836.572770</td>\n",
       "      <td>8.934893e+05</td>\n",
       "    </tr>\n",
       "    <tr>\n",
       "      <th>2017-01-27</th>\n",
       "      <td>834.71</td>\n",
       "      <td>841.95</td>\n",
       "      <td>820.44</td>\n",
       "      <td>823.31</td>\n",
       "      <td>2965800.0</td>\n",
       "      <td>912.786749</td>\n",
       "      <td>936.632353</td>\n",
       "      <td>916.358917</td>\n",
       "      <td>841.218610</td>\n",
       "      <td>8.738655e+05</td>\n",
       "    </tr>\n",
       "    <tr>\n",
       "      <th>2017-01-30</th>\n",
       "      <td>814.66</td>\n",
       "      <td>815.84</td>\n",
       "      <td>799.80</td>\n",
       "      <td>802.32</td>\n",
       "      <td>3246600.0</td>\n",
       "      <td>918.849113</td>\n",
       "      <td>943.378033</td>\n",
       "      <td>922.861466</td>\n",
       "      <td>845.939751</td>\n",
       "      <td>8.537435e+05</td>\n",
       "    </tr>\n",
       "    <tr>\n",
       "      <th>2017-01-31</th>\n",
       "      <td>796.86</td>\n",
       "      <td>801.25</td>\n",
       "      <td>790.52</td>\n",
       "      <td>796.79</td>\n",
       "      <td>2160600.0</td>\n",
       "      <td>924.917692</td>\n",
       "      <td>950.113563</td>\n",
       "      <td>929.361120</td>\n",
       "      <td>850.710500</td>\n",
       "      <td>8.331661e+05</td>\n",
       "    </tr>\n",
       "  </tbody>\n",
       "</table>\n",
       "</div>"
      ],
      "text/plain": [
       "              Open    High     Low   Close     Volume      P_Open      P_High  \\\n",
       "Date                                                                            \n",
       "2017-01-03  778.81  789.63  775.80  786.14  1657300.0  829.800883  845.773166   \n",
       "2017-01-04  788.36  791.34  783.16  786.90  1073000.0  830.636386  846.393686   \n",
       "2017-01-05  786.08  794.48  785.02  794.02  1335200.0  833.797431  849.323238   \n",
       "2017-01-06  795.26  807.90  792.20  806.15  1640200.0  836.887600  852.237916   \n",
       "2017-01-09  806.40  809.97  802.83  806.65  1272400.0  840.906255  856.398998   \n",
       "2017-01-10  807.86  809.13  803.51  804.79  1176800.0  844.417508  860.234723   \n",
       "2017-01-11  805.00  808.15  801.37  807.91  1065900.0  848.783233  865.082648   \n",
       "2017-01-12  807.14  807.39  799.17  806.36  1353100.0  853.964018  870.884429   \n",
       "2017-01-13  807.48  811.22  806.69  807.88  1099200.0  859.886746  877.692473   \n",
       "2017-01-17  807.08  807.14  800.37  804.61  1362100.0  866.980383  885.934016   \n",
       "2017-01-18  805.81  806.21  800.99  806.07  1294400.0  875.532722  895.933710   \n",
       "2017-01-19  805.12  809.48  801.80  802.17   919300.0  880.006361  900.648224   \n",
       "2017-01-20  806.91  806.91  801.69  805.02  1670000.0  884.946389  905.953831   \n",
       "2017-01-23  807.25  820.87  803.74  819.31  1963600.0  890.129738  911.574008   \n",
       "2017-01-24  822.30  825.90  817.82  823.87  1474000.0  895.415169  917.382427   \n",
       "2017-01-25  829.62  835.77  825.06  835.67  1494500.0  900.971091  923.511097   \n",
       "2017-01-26  837.81  838.00  827.01  832.15  2973900.0  906.804233  929.977572   \n",
       "2017-01-27  834.71  841.95  820.44  823.31  2965800.0  912.786749  936.632353   \n",
       "2017-01-30  814.66  815.84  799.80  802.32  3246600.0  918.849113  943.378033   \n",
       "2017-01-31  796.86  801.25  790.52  796.79  2160600.0  924.917692  950.113563   \n",
       "\n",
       "                 P_Low     P_Close      P_Volume  \n",
       "Date                                              \n",
       "2017-01-03  827.735642  775.848523  1.126602e+06  \n",
       "2017-01-04  828.568874  777.424846  1.117860e+06  \n",
       "2017-01-05  831.721124  781.303913  1.102838e+06  \n",
       "2017-01-06  834.821642  784.771815  1.092753e+06  \n",
       "2017-01-09  839.019649  788.264327  1.082578e+06  \n",
       "2017-01-10  842.812430  790.765030  1.076725e+06  \n",
       "2017-01-11  847.536934  793.842614  1.067944e+06  \n",
       "2017-01-12  853.133877  797.459645  1.056277e+06  \n",
       "2017-01-13  859.612386  801.226627  1.041754e+06  \n",
       "2017-01-17  867.409151  805.621569  1.022776e+06  \n",
       "2017-01-18  876.817252  810.990176  9.973796e+05  \n",
       "2017-01-19  881.476180  815.028449  9.809338e+05  \n",
       "2017-01-20  886.667395  819.223139  9.641575e+05  \n",
       "2017-01-23  892.143570  823.485734  9.470138e+05  \n",
       "2017-01-24  897.774182  827.650862  9.302882e+05  \n",
       "2017-01-25  903.704041  832.019854  9.124603e+05  \n",
       "2017-01-26  909.944600  836.572770  8.934893e+05  \n",
       "2017-01-27  916.358917  841.218610  8.738655e+05  \n",
       "2017-01-30  922.861466  845.939751  8.537435e+05  \n",
       "2017-01-31  929.361120  850.710500  8.331661e+05  "
      ]
     },
     "execution_count": 42,
     "metadata": {},
     "output_type": "execute_result"
    }
   ],
   "source": [
    "final_df"
   ]
  },
  {
   "cell_type": "code",
   "execution_count": 43,
   "metadata": {},
   "outputs": [
    {
     "data": {
      "text/plain": [
       "<matplotlib.axes._subplots.AxesSubplot at 0x1c766ae5f40>"
      ]
     },
     "execution_count": 43,
     "metadata": {},
     "output_type": "execute_result"
    },
    {
     "data": {
      "image/png": "[encoded data removed]",
      "text/plain": [
       "<Figure size 432x288 with 1 Axes>"
      ]
     },
     "metadata": {
      "needs_background": "light"
     },
     "output_type": "display_data"
    }
   ],
   "source": [
    "final_df[['Open','P_Open']].plot()"
   ]
  },
  {
   "cell_type": "code",
   "execution_count": 44,
   "metadata": {},
   "outputs": [
    {
     "data": {
      "text/plain": [
       "<matplotlib.axes._subplots.AxesSubplot at 0x1c766cb57c0>"
      ]
     },
     "execution_count": 44,
     "metadata": {},
     "output_type": "execute_result"
    },
    {
     "data": {
      "image/png": "[encoded data removed]",
      "text/plain": [
       "<Figure size 432x288 with 1 Axes>"
      ]
     },
     "metadata": {
      "needs_background": "light"
     },
     "output_type": "display_data"
    }
   ],
   "source": [
    "final_df[['Close','P_Close']].plot()"
   ]
  },
  {
   "cell_type": "code",
   "execution_count": 45,
   "metadata": {},
   "outputs": [
    {
     "data": {
      "text/plain": [
       "<matplotlib.axes._subplots.AxesSubplot at 0x1c766d04dc0>"
      ]
     },
     "execution_count": 45,
     "metadata": {},
     "output_type": "execute_result"
    },
    {
     "data": {
      "image/png": "[encoded data removed]",
      "text/plain": [
       "<Figure size 432x288 with 1 Axes>"
      ]
     },
     "metadata": {
      "needs_background": "light"
     },
     "output_type": "display_data"
    }
   ],
   "source": [
    "final_df[['High','P_High']].plot()"
   ]
  },
  {
   "cell_type": "code",
   "execution_count": 46,
   "metadata": {},
   "outputs": [
    {
     "data": {
      "text/plain": [
       "<matplotlib.axes._subplots.AxesSubplot at 0x1c766d4b2b0>"
      ]
     },
     "execution_count": 46,
     "metadata": {},
     "output_type": "execute_result"
    },
    {
     "data": {
      "image/png": "[encoded data removed]",
      "text/plain": [
       "<Figure size 432x288 with 1 Axes>"
      ]
     },
     "metadata": {
      "needs_background": "light"
     },
     "output_type": "display_data"
    }
   ],
   "source": [
    "final_df[['Low','P_Low']].plot()"
   ]
  },
  {
   "cell_type": "code",
   "execution_count": 47,
   "metadata": {},
   "outputs": [
    {
     "data": {
      "text/plain": [
       "<matplotlib.axes._subplots.AxesSubplot at 0x1c766d6afd0>"
      ]
     },
     "execution_count": 47,
     "metadata": {},
     "output_type": "execute_result"
    },
    {
     "data": {
      "image/png": "[encoded data removed]",
      "text/plain": [
       "<Figure size 432x288 with 1 Axes>"
      ]
     },
     "metadata": {
      "needs_background": "light"
     },
     "output_type": "display_data"
    }
   ],
   "source": [
    "final_df[['Volume','P_Volume']].plot()"
   ]
  },
  {
   "cell_type": "code",
   "execution_count": null,
   "metadata": {},
   "outputs": [],
   "source": []
  },
  {
   "cell_type": "code",
   "execution_count": null,
   "metadata": {},
   "outputs": [],
   "source": []
  },
  {
   "cell_type": "code",
   "execution_count": null,
   "metadata": {},
   "outputs": [],
   "source": []
  }
 ],
 "metadata": {
  "kernelspec": {
   "display_name": "Python 3",
   "language": "python",
   "name": "python3"
  },
  "language_info": {
   "codemirror_mode": {
    "name": "ipython",
    "version": 3
   },
   "file_extension": ".py",
   "mimetype": "text/x-python",
   "name": "python",
   "nbconvert_exporter": "python",
   "pygments_lexer": "ipython3",
   "version": "3.8.3"
  }
 },
 "nbformat": 4,
 "nbformat_minor": 4
}
